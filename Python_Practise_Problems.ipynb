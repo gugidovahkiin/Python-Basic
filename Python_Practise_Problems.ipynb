{
  "cells": [
    {
      "cell_type": "markdown",
      "metadata": {
        "id": "PqKp2UvisqRn"
      },
      "source": [
        "## TypeCasting"
      ]
    },
    {
      "cell_type": "code",
      "execution_count": null,
      "metadata": {
        "colab": {
          "base_uri": "https://localhost:8080/"
        },
        "id": "mIVf9Q_rsYDb",
        "outputId": "3cbb1b11-f24e-4b11-c403-a3e23065c736"
      },
      "outputs": [
        {
          "name": "stdout",
          "output_type": "stream",
          "text": [
            "88.99\n",
            "88\n"
          ]
        }
      ],
      "source": [
        "a = float(input())\n",
        "print (int(a))"
      ]
    },
    {
      "cell_type": "markdown",
      "source": [
        "## Maximum of two number"
      ],
      "metadata": {
        "id": "RcvP1mWRAydA"
      }
    },
    {
      "cell_type": "code",
      "source": [
        "a = int(input ())\n",
        "b = int(input ())\n",
        "if a > b :\n",
        "  print (\"Maximum number is \", a)\n",
        "else :\n",
        "  print (\"Maximum number is \", b)"
      ],
      "metadata": {
        "colab": {
          "base_uri": "https://localhost:8080/"
        },
        "id": "UHsbfYCbAxiI",
        "outputId": "15cdd04d-bd7e-47e5-fe1f-d1829f20b674"
      },
      "execution_count": null,
      "outputs": [
        {
          "output_type": "stream",
          "name": "stdout",
          "text": [
            "4\n",
            "5\n",
            "Maximum number is  5\n"
          ]
        }
      ]
    },
    {
      "cell_type": "markdown",
      "source": [
        "## Python program to print all even numbers in a range"
      ],
      "metadata": {
        "id": "PTZ3JpDwIpCE"
      }
    },
    {
      "cell_type": "code",
      "source": [
        "a = int (input (\"Start :\"))\n",
        "b = int (input (\"End :\"))\n",
        "c = []\n",
        "for i in range (a,b,1) :\n",
        "  if i % 2 == 0 :\n",
        "    c.append(i)\n",
        "print (c)\n"
      ],
      "metadata": {
        "colab": {
          "base_uri": "https://localhost:8080/"
        },
        "id": "RjRH_LhQInd3",
        "outputId": "c4df66a8-1497-4018-ba75-7b43fb0d1995"
      },
      "execution_count": null,
      "outputs": [
        {
          "output_type": "stream",
          "name": "stdout",
          "text": [
            "Start :4\n",
            "End :5\n",
            "[4]\n"
          ]
        }
      ]
    },
    {
      "cell_type": "markdown",
      "source": [
        "## Python program to print all odd  numbers in a range"
      ],
      "metadata": {
        "id": "qxvVDPsUJHJ8"
      }
    },
    {
      "cell_type": "code",
      "source": [
        "a = int (input (\"Start :\"))\n",
        "b = int (input (\"End :\"))\n",
        "c = []\n",
        "for i in range (a,b,1) :\n",
        "  if i % 2 != 0 :\n",
        "    c.append(i)\n",
        "print (c)\n"
      ],
      "metadata": {
        "colab": {
          "base_uri": "https://localhost:8080/"
        },
        "id": "eZ20R1TuJM-3",
        "outputId": "17895a2f-d7a7-4389-fc98-8efd4a3b1180"
      },
      "execution_count": null,
      "outputs": [
        {
          "output_type": "stream",
          "name": "stdout",
          "text": [
            "Start :15\n",
            "End :75\n",
            "[15, 17, 19, 21, 23, 25, 27, 29, 31, 33, 35, 37, 39, 41, 43, 45, 47, 49, 51, 53, 55, 57, 59, 61, 63, 65, 67, 69, 71, 73]\n"
          ]
        }
      ]
    },
    {
      "cell_type": "code",
      "source": [
        "a = int(input ())\n",
        "b = int(input ())\n",
        "print (\"Maximum number is \", max(a,b))"
      ],
      "metadata": {
        "colab": {
          "base_uri": "https://localhost:8080/"
        },
        "id": "wer4yUE2BexS",
        "outputId": "386e9d01-263f-4d6e-8025-e2c0af330016"
      },
      "execution_count": null,
      "outputs": [
        {
          "output_type": "stream",
          "name": "stdout",
          "text": [
            "4\n",
            "5\n",
            "Maximum number is  5\n"
          ]
        }
      ]
    },
    {
      "cell_type": "code",
      "source": [
        "a = int (input())\n",
        "b = int (input())\n",
        "c = int (input())\n",
        "if a > b and a > c :\n",
        "  print (\"Maximum number is \", a)\n",
        "elif b > a and b > c :\n",
        "  print (\"Maximum number is \", b)\n",
        "else :\n",
        "  print (\"Maximum number is \", c)"
      ],
      "metadata": {
        "colab": {
          "base_uri": "https://localhost:8080/"
        },
        "id": "xXKxxyCwBiNw",
        "outputId": "481ba6a3-b694-4816-9b08-9701048ef87e"
      },
      "execution_count": null,
      "outputs": [
        {
          "output_type": "stream",
          "name": "stdout",
          "text": [
            "1\n",
            "2\n",
            "3\n",
            "Maximum number is  3\n"
          ]
        }
      ]
    },
    {
      "cell_type": "markdown",
      "metadata": {
        "id": "UboaO8ultBxQ"
      },
      "source": [
        "# Variable Swap"
      ]
    },
    {
      "cell_type": "code",
      "execution_count": null,
      "metadata": {
        "colab": {
          "base_uri": "https://localhost:8080/"
        },
        "id": "P5aRANYIs-VH",
        "outputId": "1d50753c-fc3b-4a40-9e7a-036cd4089221"
      },
      "outputs": [
        {
          "name": "stdout",
          "output_type": "stream",
          "text": [
            "After swapping:\n",
            "x = 20\n",
            "y = 10\n"
          ]
        }
      ],
      "source": [
        "x = 10\n",
        "y = 20\n",
        "\n",
        "# Swap using tuple unpacking\n",
        "x, y = y, x\n",
        "\n",
        "# Print the swapped values\n",
        "print(\"After swapping:\")\n",
        "print(\"x =\", x)\n",
        "print(\"y =\", y)"
      ]
    },
    {
      "cell_type": "markdown",
      "metadata": {
        "id": "WYJV1KHlsS9A"
      },
      "source": [
        "# Area of Circle"
      ]
    },
    {
      "cell_type": "code",
      "execution_count": null,
      "metadata": {
        "colab": {
          "base_uri": "https://localhost:8080/"
        },
        "id": "0A-EHRsdxvYw",
        "outputId": "24a04798-ffbe-4184-f9d9-2354cc251531"
      },
      "outputs": [
        {
          "name": "stdout",
          "output_type": "stream",
          "text": [
            "Enter the radius : 10.8\n",
            "Area of Circle :  366.24960000000004\n"
          ]
        }
      ],
      "source": [
        "r = input(\"Enter the radius : \")\n",
        "area = 3.14 * float(r) ** 2\n",
        "print (\"Area of Circle : \", area)"
      ]
    },
    {
      "cell_type": "markdown",
      "metadata": {
        "id": "wg9nOc_by8Vz"
      },
      "source": [
        "# Temperature Conversion"
      ]
    },
    {
      "cell_type": "code",
      "execution_count": null,
      "metadata": {
        "colab": {
          "background_save": true,
          "base_uri": "https://localhost:8080/"
        },
        "id": "eFP035HHx90d",
        "outputId": "ec37fbdf-c932-482d-993a-97fd6366158b"
      },
      "outputs": [
        {
          "name": "stdout",
          "output_type": "stream",
          "text": [
            "Temperature Conversion Options:\n",
            "1: Celsius to Fahrenheit\n",
            "2: Fahrenheit to Celsius\n",
            "3: Celsius to Kelvin\n",
            "4: Kelvin to Celsius\n",
            "5: Fahrenheit to Kelvin\n",
            "6: Kelvin to Fahrenheit\n"
          ]
        }
      ],
      "source": [
        "def celsius_to_fahrenheit(celsius):\n",
        "    return (celsius * 9/5) + 32\n",
        "\n",
        "def fahrenheit_to_celsius(fahrenheit):\n",
        "    return (fahrenheit - 32) * 5/9\n",
        "\n",
        "def celsius_to_kelvin(celsius):\n",
        "    return celsius + 273.15\n",
        "\n",
        "def kelvin_to_celsius(kelvin):\n",
        "    return kelvin - 273.15\n",
        "\n",
        "def fahrenheit_to_kelvin(fahrenheit):\n",
        "    celsius = fahrenheit_to_celsius(fahrenheit)\n",
        "    return celsius_to_kelvin(celsius)\n",
        "\n",
        "def kelvin_to_fahrenheit(kelvin):\n",
        "    celsius = kelvin_to_celsius(kelvin)\n",
        "    return celsius_to_fahrenheit(celsius)\n",
        "\n",
        "def convert_temperature():\n",
        "    print(\"Temperature Conversion Options:\")\n",
        "    print(\"1: Celsius to Fahrenheit\")\n",
        "    print(\"2: Fahrenheit to Celsius\")\n",
        "    print(\"3: Celsius to Kelvin\")\n",
        "    print(\"4: Kelvin to Celsius\")\n",
        "    print(\"5: Fahrenheit to Kelvin\")\n",
        "    print(\"6: Kelvin to Fahrenheit\")\n",
        "\n",
        "    choice = int(input(\"Select an option (1-6): \"))\n",
        "\n",
        "    if choice == 1:\n",
        "        celsius = float(input(\"Enter temperature in Celsius: \"))\n",
        "        print(f\"{celsius}°C = {celsius_to_fahrenheit(celsius):.2f}°F\")\n",
        "    elif choice == 2:\n",
        "        fahrenheit = float(input(\"Enter temperature in Fahrenheit: \"))\n",
        "        print(f\"{fahrenheit}°F = {fahrenheit_to_celsius(fahrenheit):.2f}°C\")\n",
        "    elif choice == 3:\n",
        "        celsius = float(input(\"Enter temperature in Celsius: \"))\n",
        "        print(f\"{celsius}°C = {celsius_to_kelvin(celsius):.2f}K\")\n",
        "    elif choice == 4:\n",
        "        kelvin = float(input(\"Enter temperature in Kelvin: \"))\n",
        "        print(f\"{kelvin}K = {kelvin_to_celsius(kelvin):.2f}°C\")\n",
        "    elif choice == 5:\n",
        "        fahrenheit = float(input(\"Enter temperature in Fahrenheit: \"))\n",
        "        print(f\"{fahrenheit}°F = {fahrenheit_to_kelvin(fahrenheit):.2f}K\")\n",
        "    elif choice == 6:\n",
        "        kelvin = float(input(\"Enter temperature in Kelvin: \"))\n",
        "        print(f\"{kelvin}K = {kelvin_to_fahrenheit(kelvin):.2f}°F\")\n",
        "    else:\n",
        "        print(\"Invalid option selected.\")\n",
        "\n",
        "if __name__ == \"__main__\":\n",
        "  convert_temperature()"
      ]
    },
    {
      "cell_type": "markdown",
      "source": [
        "# List Problems :"
      ],
      "metadata": {
        "id": "xiBoCdZR6kyO"
      }
    },
    {
      "cell_type": "markdown",
      "source": [
        "## Swap the first and last values in a list"
      ],
      "metadata": {
        "id": "-ZZsBe9J6xJw"
      }
    },
    {
      "cell_type": "code",
      "execution_count": null,
      "metadata": {
        "id": "j2YVYXkq3xuc",
        "colab": {
          "base_uri": "https://localhost:8080/"
        },
        "outputId": "35c6e357-b755-4475-a81f-c52219061e21"
      },
      "outputs": [
        {
          "output_type": "stream",
          "name": "stdout",
          "text": [
            "[5, 2, 3, 4, 1]\n"
          ]
        }
      ],
      "source": [
        "a = [1,2,3,4,5]\n",
        "x,y = a[0],a[-1]\n",
        "a[0],a[-1] = y,x\n",
        "print (a)"
      ]
    },
    {
      "cell_type": "code",
      "source": [
        "a = [1, 2, 3, 4, 5]\n",
        "new_list = [a[-1]] + a[1:-1] + [a[0]]\n",
        "print(new_list)"
      ],
      "metadata": {
        "colab": {
          "base_uri": "https://localhost:8080/"
        },
        "id": "H-5KTlHR5zyo",
        "outputId": "4a8f8847-bc3a-4f72-f62c-2ce0df857a76"
      },
      "execution_count": null,
      "outputs": [
        {
          "output_type": "stream",
          "name": "stdout",
          "text": [
            "[5, 2, 3, 4, 1]\n"
          ]
        }
      ]
    },
    {
      "cell_type": "markdown",
      "source": [
        "## Move first element to last in a list :"
      ],
      "metadata": {
        "id": "x6F3Fn2k7Rzn"
      }
    },
    {
      "cell_type": "code",
      "source": [
        "my_list = [1, 2, 3, 4, 5]# Move the first element to the end\n",
        "my_list.append(my_list.pop(0))\n",
        "my_list"
      ],
      "metadata": {
        "colab": {
          "base_uri": "https://localhost:8080/"
        },
        "id": "9AYdVDgX7FZi",
        "outputId": "dd8fb495-1c51-4c26-df18-eb6a2cb76c98"
      },
      "execution_count": null,
      "outputs": [
        {
          "output_type": "execute_result",
          "data": {
            "text/plain": [
              "[2, 3, 4, 5, 1]"
            ]
          },
          "metadata": {},
          "execution_count": 8
        }
      ]
    },
    {
      "cell_type": "code",
      "source": [
        "my_list = [1, 2, 3, 4, 5]# Move the first element to the end\n",
        "a = my_list [0]\n",
        "my_list.remove (a)\n",
        "my_list.append (a)\n",
        "my_list"
      ],
      "metadata": {
        "colab": {
          "base_uri": "https://localhost:8080/"
        },
        "id": "UY3FQVOe7Xe_",
        "outputId": "a51e3dde-dddb-446d-b04d-2e0a8e04434a"
      },
      "execution_count": null,
      "outputs": [
        {
          "output_type": "execute_result",
          "data": {
            "text/plain": [
              "[2, 3, 4, 5, 1]"
            ]
          },
          "metadata": {},
          "execution_count": 9
        }
      ]
    },
    {
      "cell_type": "markdown",
      "source": [
        "## Swap Two Elements in a List"
      ],
      "metadata": {
        "id": "7L_MnWbE8c35"
      }
    },
    {
      "cell_type": "code",
      "source": [
        "my_list = [10, 20, 30, 40, 50]\n",
        "a,b = my_list[0], my_list[2] # Swapping element from first and third position\n",
        "my_list [0], my_list [2] = b,a\n",
        "my_list"
      ],
      "metadata": {
        "colab": {
          "base_uri": "https://localhost:8080/"
        },
        "id": "HODyq5eL8fFz",
        "outputId": "bae65ec5-341f-4ee6-df73-4e22f89d62d5"
      },
      "execution_count": null,
      "outputs": [
        {
          "output_type": "execute_result",
          "data": {
            "text/plain": [
              "[30, 20, 10, 40, 50]"
            ]
          },
          "metadata": {},
          "execution_count": 12
        }
      ]
    },
    {
      "cell_type": "markdown",
      "source": [
        "## Swap Element in a string list"
      ],
      "metadata": {
        "id": "etJ7XC51-L0H"
      }
    },
    {
      "cell_type": "code",
      "source": [
        "a = [\"Bonona\", \"Opple\", \"Kuwu\"]\n",
        "b = [i.lower ().replace(\"o\", \"a\").replace(\"u\", \"i\") for i in a]  # Apply replace to each element of the list\n",
        "print(b)"
      ],
      "metadata": {
        "colab": {
          "base_uri": "https://localhost:8080/"
        },
        "id": "UIqv30sw9LnG",
        "outputId": "334798ec-492b-4d85-e894-bb2858bec7a1"
      },
      "execution_count": null,
      "outputs": [
        {
          "output_type": "stream",
          "name": "stdout",
          "text": [
            "['banana', 'apple', 'kiwi']\n"
          ]
        }
      ]
    },
    {
      "cell_type": "markdown",
      "source": [
        "## Length Of List"
      ],
      "metadata": {
        "id": "deqAuywrAJpH"
      }
    },
    {
      "cell_type": "code",
      "source": [
        "l1 = [10, 20, 30]\n",
        "n = len(l1)\n",
        "print(\"Length of l1 : \", n)\n",
        "\n",
        "l2 = []\n",
        "n = len(l2)\n",
        "print(\"Length of l2 : \", n)\n",
        "\n",
        "l3 = [[10, 20], [\"gfg\", \"courses\"], 10.5]\n",
        "n = len(l3)\n",
        "print(\"Length of l3: \", n)"
      ],
      "metadata": {
        "colab": {
          "base_uri": "https://localhost:8080/"
        },
        "id": "d9WD5Dm1ALf3",
        "outputId": "e1b0d018-b838-4362-8626-bac3da922ad0"
      },
      "execution_count": null,
      "outputs": [
        {
          "output_type": "stream",
          "name": "stdout",
          "text": [
            "Length of l1 :  3\n",
            "Length of l2 :  0\n",
            "Length of l3:  3\n"
          ]
        }
      ]
    },
    {
      "cell_type": "markdown",
      "source": [
        "## Count the element in the list"
      ],
      "metadata": {
        "id": "PfKptQTDEjhY"
      }
    },
    {
      "cell_type": "code",
      "source": [
        "lst = [15, 6, 7, 10, 12, 20, 10, 28, 10]\n",
        "x = 10\n",
        "count = lst.count(10)\n",
        "count"
      ],
      "metadata": {
        "colab": {
          "base_uri": "https://localhost:8080/"
        },
        "id": "QEMkr3-eEmHb",
        "outputId": "c8242e48-e4f2-4e5c-d3be-af4bd0943b3e"
      },
      "execution_count": null,
      "outputs": [
        {
          "output_type": "execute_result",
          "data": {
            "text/plain": [
              "3"
            ]
          },
          "metadata": {},
          "execution_count": 33
        }
      ]
    },
    {
      "cell_type": "code",
      "source": [
        "lst = [15, 6, 7, 10, 12, 20, 10, 28, 10]\n",
        "x = 10\n",
        "count = 0\n",
        "for i in lst :\n",
        "  if i == x :\n",
        "    count += 1\n",
        "print (count)"
      ],
      "metadata": {
        "colab": {
          "base_uri": "https://localhost:8080/"
        },
        "id": "UOGe-vlyEvxH",
        "outputId": "b5dc698f-c2cf-4b4a-8840-99b7c55375b6"
      },
      "execution_count": null,
      "outputs": [
        {
          "output_type": "stream",
          "name": "stdout",
          "text": [
            "3\n"
          ]
        }
      ]
    },
    {
      "cell_type": "markdown",
      "source": [
        "## Find sum and average of List in Python"
      ],
      "metadata": {
        "id": "Vp_rOrU0FDtx"
      }
    },
    {
      "cell_type": "code",
      "source": [
        "a = [4, 5, 1, 2, 9, 7, 10, 8]\n",
        "sum = sum(a)\n",
        "avg = sum / len(a)\n",
        "print (\"Sum : \", sum)\n",
        "print (\"Average : \", avg)"
      ],
      "metadata": {
        "colab": {
          "base_uri": "https://localhost:8080/"
        },
        "id": "wqEeO_JPFFKt",
        "outputId": "cf4254e4-0996-4944-bbf0-1ad192da12f8"
      },
      "execution_count": null,
      "outputs": [
        {
          "output_type": "stream",
          "name": "stdout",
          "text": [
            "Sum :  46\n",
            "Average :  5.75\n"
          ]
        }
      ]
    },
    {
      "cell_type": "markdown",
      "source": [
        "## Sum of the number digits in a list"
      ],
      "metadata": {
        "id": "8Lw4f9FwFc9T"
      }
    },
    {
      "cell_type": "code",
      "source": [
        "a = [12, 67, 98, 34]\n",
        "b = []\n",
        "for i in a :\n",
        "  sum = 0\n",
        "  for j in str(i) :\n",
        "    sum += int(j)\n",
        "\n",
        "  b.append (sum)\n",
        "print (b)"
      ],
      "metadata": {
        "colab": {
          "base_uri": "https://localhost:8080/"
        },
        "id": "0fdpkevxFcLH",
        "outputId": "6096542e-3b81-4a95-b9f2-acd7fc8cd549"
      },
      "execution_count": null,
      "outputs": [
        {
          "output_type": "stream",
          "name": "stdout",
          "text": [
            "[3, 13, 17, 7]\n"
          ]
        }
      ]
    },
    {
      "cell_type": "markdown",
      "source": [
        "## Multiply all numbers in the list"
      ],
      "metadata": {
        "id": "japvGf1nGNxL"
      }
    },
    {
      "cell_type": "code",
      "source": [
        "a = [1, 2, 3]\n",
        "m = 1\n",
        "for i in a :\n",
        "\n",
        "  m = i*m\n",
        "print (m)"
      ],
      "metadata": {
        "colab": {
          "base_uri": "https://localhost:8080/"
        },
        "id": "J2I7gUqOGPdF",
        "outputId": "90bf4e9d-bf7b-41cb-de36-be98224b5f43"
      },
      "execution_count": null,
      "outputs": [
        {
          "output_type": "stream",
          "name": "stdout",
          "text": [
            "6\n"
          ]
        }
      ]
    },
    {
      "cell_type": "markdown",
      "source": [
        "## Python program to find smallest number in a list\n"
      ],
      "metadata": {
        "id": "GWibUiGGHCYM"
      }
    },
    {
      "cell_type": "code",
      "source": [
        "list1 = [10, 20, 4]\n",
        "list1.sort()\n",
        "print(\"Smallest element is:\", list1[0])"
      ],
      "metadata": {
        "colab": {
          "base_uri": "https://localhost:8080/"
        },
        "id": "meZeFUk2HBkI",
        "outputId": "ae55d3e8-a598-4d99-c908-94e8d2c16024"
      },
      "execution_count": null,
      "outputs": [
        {
          "output_type": "stream",
          "name": "stdout",
          "text": [
            "Smallest element is: 4\n"
          ]
        }
      ]
    },
    {
      "cell_type": "markdown",
      "source": [
        "## Python program to print even numbers in a list\n"
      ],
      "metadata": {
        "id": "ZZxfypSKH-PC"
      }
    },
    {
      "cell_type": "code",
      "source": [
        "a = [2, 7, 5, 64, 14]\n",
        "b = []\n",
        "for i in a :\n",
        "  if i % 2 == 0 :\n",
        "    b.append(i)\n",
        "b"
      ],
      "metadata": {
        "colab": {
          "base_uri": "https://localhost:8080/"
        },
        "id": "I0IqXF1CIAn1",
        "outputId": "809f04c5-166c-4892-ac5d-2311944e96ce"
      },
      "execution_count": null,
      "outputs": [
        {
          "output_type": "execute_result",
          "data": {
            "text/plain": [
              "[2, 64, 14]"
            ]
          },
          "metadata": {},
          "execution_count": 45
        }
      ]
    },
    {
      "cell_type": "markdown",
      "source": [
        "## Python program to print odd numbers in a List"
      ],
      "metadata": {
        "id": "G0g1VDZ1IWik"
      }
    },
    {
      "cell_type": "code",
      "source": [
        "a = [2, 7, 5, 64, 14]\n",
        "b = []\n",
        "for i in a :\n",
        "  if i % 2 != 0 :\n",
        "    b.append(i)\n",
        "b"
      ],
      "metadata": {
        "colab": {
          "base_uri": "https://localhost:8080/"
        },
        "id": "f7KGJGQeIX5M",
        "outputId": "66964abb-e961-4d1b-d5c9-14be1c1615c9"
      },
      "execution_count": null,
      "outputs": [
        {
          "output_type": "execute_result",
          "data": {
            "text/plain": [
              "[7, 5]"
            ]
          },
          "metadata": {},
          "execution_count": 46
        }
      ]
    },
    {
      "cell_type": "markdown",
      "source": [
        "## Python program to print negative numbers in a list"
      ],
      "metadata": {
        "id": "pda40cqMJufu"
      }
    },
    {
      "cell_type": "code",
      "source": [
        "a = [2, 7, -5, 64, -14]\n",
        "b = []\n",
        "for i in a :\n",
        "  if i < 0 :\n",
        "    b.append(i)\n",
        "b"
      ],
      "metadata": {
        "colab": {
          "base_uri": "https://localhost:8080/"
        },
        "id": "Ejeoxj5KLM7P",
        "outputId": "09320431-472c-4387-d3f3-af6f83369e39"
      },
      "execution_count": null,
      "outputs": [
        {
          "output_type": "execute_result",
          "data": {
            "text/plain": [
              "[-5, -14]"
            ]
          },
          "metadata": {},
          "execution_count": 53
        }
      ]
    },
    {
      "cell_type": "markdown",
      "source": [
        "## Python program to count Even and Odd numbers in a List"
      ],
      "metadata": {
        "id": "IwmbihZEJVn8"
      }
    },
    {
      "cell_type": "code",
      "source": [
        "a = [2, 7, 5, 64, 14]\n",
        "odd = 0\n",
        "even = 0\n",
        "for i in a :\n",
        "  if i % 2 == 0 :\n",
        "    even += 1\n",
        "  else :\n",
        "    odd += 1\n",
        "print (\"Even : \", even)\n",
        "print (\"Odd : \", odd)"
      ],
      "metadata": {
        "colab": {
          "base_uri": "https://localhost:8080/"
        },
        "id": "gjKTS_E1JYWd",
        "outputId": "5b83dbda-5e27-49d9-a361-c4cf8cef4d9a"
      },
      "execution_count": null,
      "outputs": [
        {
          "output_type": "stream",
          "name": "stdout",
          "text": [
            "Even :  3\n",
            "Odd :  2\n"
          ]
        }
      ]
    },
    {
      "cell_type": "markdown",
      "source": [
        "## Python program to count positive and negative numbers in a list\n"
      ],
      "metadata": {
        "id": "eFRzr_FsOwrQ"
      }
    },
    {
      "cell_type": "code",
      "source": [
        "a = [2, -7, 5, -64, 14]\n",
        "positive = 0\n",
        "negative = 0\n",
        "for i in a :\n",
        "  if i > 0 :\n",
        "    positive += 1\n",
        "  else :\n",
        "    negative += 1\n",
        "print (\"Positive : \", positive)\n",
        "print (\"Negative : \", negative)"
      ],
      "metadata": {
        "colab": {
          "base_uri": "https://localhost:8080/"
        },
        "id": "bslSW88aOys0",
        "outputId": "5bc06073-bba3-433d-edc9-33b584b898a5"
      },
      "execution_count": null,
      "outputs": [
        {
          "output_type": "stream",
          "name": "stdout",
          "text": [
            "Positive :  3\n",
            "Negative :  2\n"
          ]
        }
      ]
    },
    {
      "cell_type": "markdown",
      "source": [
        "## Check if an element exists in the list using the “in” statement"
      ],
      "metadata": {
        "id": "D_WymBxvCAQh"
      }
    },
    {
      "cell_type": "code",
      "source": [
        "a = [1,2,3,4,5]\n",
        "if 3 in a :\n",
        "  print (\"Element exists\")\n",
        "else:\n",
        "    print(\"not exist\")"
      ],
      "metadata": {
        "colab": {
          "base_uri": "https://localhost:8080/"
        },
        "id": "PUDLHhqoB_WW",
        "outputId": "11a0a446-c498-4515-c56d-5fe4fe4eaa10"
      },
      "execution_count": null,
      "outputs": [
        {
          "output_type": "stream",
          "name": "stdout",
          "text": [
            "Element exists\n"
          ]
        }
      ]
    },
    {
      "cell_type": "markdown",
      "source": [
        "## Copy a List"
      ],
      "metadata": {
        "id": "1Vcn9hcVDsq7"
      }
    },
    {
      "cell_type": "code",
      "source": [
        "a = [1,2,3,4,5]\n",
        "b = a.copy ()\n",
        "print (b)"
      ],
      "metadata": {
        "colab": {
          "base_uri": "https://localhost:8080/"
        },
        "id": "g96pXhD5Dr3_",
        "outputId": "6e03e670-d806-49cd-be47-6b80a9b9f50f"
      },
      "execution_count": null,
      "outputs": [
        {
          "output_type": "stream",
          "name": "stdout",
          "text": [
            "[1, 2, 3, 4, 5]\n"
          ]
        }
      ]
    },
    {
      "cell_type": "code",
      "source": [
        "a = [1,2,3,4,5]\n",
        "b = a[:]\n",
        "print (b)"
      ],
      "metadata": {
        "colab": {
          "base_uri": "https://localhost:8080/"
        },
        "id": "Ut3XXafDD2NN",
        "outputId": "a7e3c230-3065-4fc0-a8ba-56fae035d20c"
      },
      "execution_count": null,
      "outputs": [
        {
          "output_type": "stream",
          "name": "stdout",
          "text": [
            "[1, 2, 3, 4, 5]\n"
          ]
        }
      ]
    },
    {
      "cell_type": "markdown",
      "source": [
        "## Reversing a list"
      ],
      "metadata": {
        "id": "0Nqrk6jqDDMt"
      }
    },
    {
      "cell_type": "code",
      "source": [
        "a = [1,2,3,4,5]\n",
        "a.reverse ()\n",
        "print (a)"
      ],
      "metadata": {
        "colab": {
          "base_uri": "https://localhost:8080/"
        },
        "id": "UdEpzWSdDFOF",
        "outputId": "83c79ec5-fd8d-4b57-e5ac-9e15c556d836"
      },
      "execution_count": null,
      "outputs": [
        {
          "output_type": "stream",
          "name": "stdout",
          "text": [
            "[5, 4, 3, 2, 1]\n"
          ]
        }
      ]
    },
    {
      "cell_type": "code",
      "source": [
        "a = [1,2,3,4,5]\n",
        "b = a [::-1]\n",
        "print (b)"
      ],
      "metadata": {
        "colab": {
          "base_uri": "https://localhost:8080/"
        },
        "id": "bpEVKHzpDMYY",
        "outputId": "35f0e01c-8c20-4e72-c0c5-1ebb25866370"
      },
      "execution_count": null,
      "outputs": [
        {
          "output_type": "stream",
          "name": "stdout",
          "text": [
            "[5, 4, 3, 2, 1]\n"
          ]
        }
      ]
    },
    {
      "cell_type": "markdown",
      "source": [
        "# STRING PROBLEMS"
      ],
      "metadata": {
        "id": "Czqyjm9PpZf_"
      }
    },
    {
      "cell_type": "markdown",
      "metadata": {
        "id": "Vom4brSP24Ly"
      },
      "source": [
        "## Symmetrical"
      ]
    },
    {
      "cell_type": "code",
      "execution_count": null,
      "metadata": {
        "id": "bRyLNRZX2JrZ"
      },
      "outputs": [],
      "source": [
        "a = input (\"Enter a string :\").lower ()\n",
        "mid = len (a) // 2\n",
        "if mid % 2 == 0 :\n",
        "  first_str = a [:mid]\n",
        "  second_str = a [mid:]\n",
        "else :\n",
        "  first_str = a [:mid]\n",
        "  second_str = a [mid+1:]\n",
        "if first_str == second_str :\n",
        "  print (\"Symmetrical\")\n",
        "else :\n",
        "  print (\"Not Symmetrical\")"
      ]
    },
    {
      "cell_type": "code",
      "source": [
        "my_list = ['apple', 'banana', 'cherry']\n",
        "my_string = \"I like apples and bananas.\"\n",
        "for item in my_list:\n",
        "    if item in my_string:\n",
        "        print(f\"{item} is found in the string.\")\n",
        "    else:\n",
        "        print(f\"{item} is not found in the string.\")"
      ],
      "metadata": {
        "colab": {
          "base_uri": "https://localhost:8080/"
        },
        "id": "Z6ASmOUZCqMF",
        "outputId": "9349dd19-78f3-48e0-f236-2f34be5c271d"
      },
      "execution_count": null,
      "outputs": [
        {
          "output_type": "stream",
          "name": "stdout",
          "text": [
            "apple is found in the string.\n",
            "banana is found in the string.\n",
            "cherry is not found in the string.\n"
          ]
        }
      ]
    },
    {
      "cell_type": "markdown",
      "metadata": {
        "id": "puUrQKHIsUOH"
      },
      "source": [
        "## Palindrome\n",
        "\n",
        "\n"
      ]
    },
    {
      "cell_type": "code",
      "execution_count": null,
      "metadata": {
        "colab": {
          "base_uri": "https://localhost:8080/"
        },
        "id": "vAtElwuEmuOQ",
        "outputId": "66934798-c9c5-46c4-af87-90d6c8f9ec93"
      },
      "outputs": [
        {
          "name": "stdout",
          "output_type": "stream",
          "text": [
            "Enter a string : Madam\n",
            "Palindrome\n"
          ]
        }
      ],
      "source": [
        "a = input(\"Enter a string : \"). lower ()\n",
        "b = a[::-1]\n",
        "if a == b :\n",
        "  print (\"Palindrome\")\n",
        "else :\n",
        "  print (\"Not a Palindrome\")"
      ]
    },
    {
      "cell_type": "markdown",
      "source": [
        "## Reverse Words in a Given String in Python\n"
      ],
      "metadata": {
        "id": "MvOXOPeIpjWZ"
      }
    },
    {
      "cell_type": "code",
      "source": [
        "a = \"my name is laxmi\"\n",
        "b = a.split()\n",
        "b.reverse ()\n",
        "print (\" \".join(b))"
      ],
      "metadata": {
        "colab": {
          "base_uri": "https://localhost:8080/"
        },
        "id": "4bC4eUWapnUq",
        "outputId": "0d8c9009-68f4-4d60-eda6-c61c00801bdb"
      },
      "execution_count": null,
      "outputs": [
        {
          "output_type": "stream",
          "name": "stdout",
          "text": [
            "laxmi is name my\n"
          ]
        }
      ]
    },
    {
      "cell_type": "markdown",
      "source": [
        "## How to Remove Letters From a String in Python\n"
      ],
      "metadata": {
        "id": "F7R9lQ0eqlF3"
      }
    },
    {
      "cell_type": "code",
      "source": [
        "a = \"Geeks123For123Geeks\"\n",
        "a = a.replace (\"123\", \"\")\n",
        "a"
      ],
      "metadata": {
        "colab": {
          "base_uri": "https://localhost:8080/",
          "height": 35
        },
        "id": "Ejx_BZfMqnrV",
        "outputId": "61915ab4-daa2-40f6-b897-4f412f61fbfe"
      },
      "execution_count": null,
      "outputs": [
        {
          "output_type": "execute_result",
          "data": {
            "text/plain": [
              "'GeeksForGeeks'"
            ],
            "application/vnd.google.colaboratory.intrinsic+json": {
              "type": "string"
            }
          },
          "metadata": {},
          "execution_count": 61
        }
      ]
    },
    {
      "cell_type": "markdown",
      "source": [
        "## Length of the String"
      ],
      "metadata": {
        "id": "5nnZvwmbrRtC"
      }
    },
    {
      "cell_type": "code",
      "source": [
        "a = \"hello world !\"\n",
        "print (len(a))"
      ],
      "metadata": {
        "colab": {
          "base_uri": "https://localhost:8080/"
        },
        "id": "4vblnQHtrUXh",
        "outputId": "c8ab03ba-a5d7-426e-bfa5-9a2a7236e052"
      },
      "execution_count": null,
      "outputs": [
        {
          "output_type": "stream",
          "name": "stdout",
          "text": [
            "13\n"
          ]
        }
      ]
    },
    {
      "cell_type": "markdown",
      "source": [
        "## Python – Avoid Spaces in string length"
      ],
      "metadata": {
        "id": "hmpgJpeGrhv7"
      }
    },
    {
      "cell_type": "code",
      "source": [
        "a = \"geeksforgeeks 33 best\"\n",
        "print (\"Length of string before space\", len(a))\n",
        "for i in a :\n",
        "  if i == \" \" :\n",
        "    a = a.replace (\" \", \"\")\n",
        "print (len(a))"
      ],
      "metadata": {
        "colab": {
          "base_uri": "https://localhost:8080/"
        },
        "id": "lb5grSKwrjIg",
        "outputId": "bb50c4d7-30c8-4af5-b2a9-65988379906e"
      },
      "execution_count": null,
      "outputs": [
        {
          "output_type": "stream",
          "name": "stdout",
          "text": [
            "Length of string before space 21\n",
            "19\n"
          ]
        }
      ]
    },
    {
      "cell_type": "markdown",
      "source": [
        "## Python program to print even length words in a string"
      ],
      "metadata": {
        "id": "FK1ojqGBsLEo"
      }
    },
    {
      "cell_type": "code",
      "source": [
        " s = \"This is a python language\"\n",
        " n = []\n",
        " s = s.split()\n",
        " for i in s :\n",
        "   if len(i) % 2 == 0 :\n",
        "     n.append(i)\n",
        "print (\" \".join(n))"
      ],
      "metadata": {
        "colab": {
          "base_uri": "https://localhost:8080/"
        },
        "id": "Y35cOKPpsMaN",
        "outputId": "dc6cb257-e040-4f3e-f24d-44747011a122"
      },
      "execution_count": null,
      "outputs": [
        {
          "output_type": "stream",
          "name": "stdout",
          "text": [
            "This is python language\n"
          ]
        }
      ]
    },
    {
      "cell_type": "markdown",
      "source": [
        "## Uppercase Half String"
      ],
      "metadata": {
        "id": "T0tBySRMtLjZ"
      }
    },
    {
      "cell_type": "code",
      "source": [
        "a = 'geeksforgeek'\n",
        "b = len(a) // 2\n",
        "c = a[:b].upper() + a[b:]\n",
        "c"
      ],
      "metadata": {
        "colab": {
          "base_uri": "https://localhost:8080/",
          "height": 35
        },
        "id": "T1-PyO8EtM-S",
        "outputId": "62ee541e-5e62-44b5-f47e-a4996400cbc3"
      },
      "execution_count": null,
      "outputs": [
        {
          "output_type": "execute_result",
          "data": {
            "text/plain": [
              "'GEEKSForgeek'"
            ],
            "application/vnd.google.colaboratory.intrinsic+json": {
              "type": "string"
            }
          },
          "metadata": {},
          "execution_count": 68
        }
      ]
    },
    {
      "cell_type": "markdown",
      "source": [
        "## Capitalize the first and last character of each word in a string"
      ],
      "metadata": {
        "id": "wIN9mYdPvMa2"
      }
    },
    {
      "cell_type": "code",
      "source": [
        "a = \"hello world\"\n",
        "for i in a.split():\n",
        "    print(i[0].upper() + i[1:-1] + i[-1].upper(), end=\" \")"
      ],
      "metadata": {
        "colab": {
          "base_uri": "https://localhost:8080/"
        },
        "id": "G3HMKwVbvNmT",
        "outputId": "a65d115a-c0a9-436f-8595-68e4696dd497"
      },
      "execution_count": null,
      "outputs": [
        {
          "output_type": "stream",
          "name": "stdout",
          "text": [
            "HellO WorlD "
          ]
        }
      ]
    },
    {
      "cell_type": "markdown",
      "source": [
        "## Python program to check if a string has at least one letter and one number"
      ],
      "metadata": {
        "id": "-6BvZzERv9Pg"
      }
    },
    {
      "cell_type": "code",
      "source": [
        "a = \"welcomeourcountry\"\n",
        "b = 0  # Flag for letters\n",
        "c = 0  # Flag for digits\n",
        "\n",
        "for i in a:\n",
        "    if i.isalpha():\n",
        "        b = 1\n",
        "    if i.isdigit():\n",
        "        c = 1\n",
        "\n",
        "    # Exit the loop early if both conditions are met\n",
        "    if b == 1 and c == 1:\n",
        "        break\n",
        "\n",
        "if b == 1 and c == 1:\n",
        "    print(\"String has both letter and number\")\n",
        "else:\n",
        "    print(\"String does not have both letter and number\")\n"
      ],
      "metadata": {
        "colab": {
          "base_uri": "https://localhost:8080/"
        },
        "id": "u-XJY9rdv-8J",
        "outputId": "99ab00dd-8aed-4b3f-b4fd-99e7c4d4f6f6"
      },
      "execution_count": null,
      "outputs": [
        {
          "output_type": "stream",
          "name": "stdout",
          "text": [
            "String does not have both letter and number\n"
          ]
        }
      ]
    },
    {
      "cell_type": "markdown",
      "source": [
        "## Python Program to Accept the Strings Which Contains all Vowels\n"
      ],
      "metadata": {
        "id": "q5eGcoRlzikT"
      }
    },
    {
      "cell_type": "code",
      "source": [
        "a = \"aeio\".lower()\n",
        "vowels = \"aeiou\"\n",
        "for i in vowels :\n",
        "  if i not in a :\n",
        "    print (\"No\")\n",
        "    break\n",
        "else :\n",
        "  print (\"Yes\")\n"
      ],
      "metadata": {
        "colab": {
          "base_uri": "https://localhost:8080/"
        },
        "id": "z5OjnlCgzhxz",
        "outputId": "b1a5e4af-36d0-4618-fc73-3bdd091a4a36"
      },
      "execution_count": null,
      "outputs": [
        {
          "output_type": "stream",
          "name": "stdout",
          "text": [
            "No\n"
          ]
        }
      ]
    },
    {
      "cell_type": "markdown",
      "source": [
        "## Python program to count number of vowels using sets in given string"
      ],
      "metadata": {
        "id": "MICMbeRc1yBl"
      }
    },
    {
      "cell_type": "code",
      "source": [
        "\n",
        "string = \"GeekforGeeks!\"\n",
        "vowels = \"aeiouAEIOU\"\n",
        "\n",
        "count = sum(string.count(i) for i in vowels)\n",
        "print(count)"
      ],
      "metadata": {
        "colab": {
          "base_uri": "https://localhost:8080/"
        },
        "id": "VEFN2A5n1zai",
        "outputId": "8f89132b-1513-4edc-fb70-eb6d088264c8"
      },
      "execution_count": null,
      "outputs": [
        {
          "output_type": "stream",
          "name": "stdout",
          "text": [
            "5\n"
          ]
        }
      ]
    },
    {
      "cell_type": "markdown",
      "source": [
        "## Remove All Duplicates from a Given String in Python"
      ],
      "metadata": {
        "id": "yynxtj0o9JLX"
      }
    },
    {
      "cell_type": "code",
      "source": [
        "a = \"geeksforgeeks\"\n",
        "b = set (a)\n",
        "print (\"\".join(b))"
      ],
      "metadata": {
        "colab": {
          "base_uri": "https://localhost:8080/"
        },
        "id": "FA71w_Rk9IPj",
        "outputId": "96778f81-ca42-4bef-ef17-0fadc74ccd15"
      },
      "execution_count": null,
      "outputs": [
        {
          "output_type": "stream",
          "name": "stdout",
          "text": [
            "oefskgr\n"
          ]
        }
      ]
    },
    {
      "cell_type": "markdown",
      "source": [
        "## Frequency of numbers in String"
      ],
      "metadata": {
        "id": "11k2ATMIH8ri"
      }
    },
    {
      "cell_type": "code",
      "source": [
        "a = \"geeks4feeks is No. 1 4 geeks\"\n",
        "temp = 0\n",
        "for i in a :\n",
        "  if (i.isdigit()) :\n",
        "    temp += 1\n",
        "print (temp)"
      ],
      "metadata": {
        "colab": {
          "base_uri": "https://localhost:8080/"
        },
        "id": "UhiMCBB4H9vE",
        "outputId": "383e00e3-d14c-4e87-ed0d-6571b063f0c9"
      },
      "execution_count": null,
      "outputs": [
        {
          "output_type": "stream",
          "name": "stdout",
          "text": [
            "3\n"
          ]
        }
      ]
    },
    {
      "cell_type": "markdown",
      "source": [
        "## Program to check if a string contains any special character"
      ],
      "metadata": {
        "id": "PJUtLqgKJlcB"
      }
    },
    {
      "cell_type": "code",
      "source": [
        "n = \"Geeks$For$Geeks\"\n",
        "a = '[@_!#$%^&*()<>?/\\|}{~:]'\n",
        "for i in n :\n",
        "  if i in a :\n",
        "    print (\"Not valid string\")\n",
        "    break\n",
        "else :\n",
        "  print (\"Valid string\")"
      ],
      "metadata": {
        "colab": {
          "base_uri": "https://localhost:8080/"
        },
        "id": "HjrP08pfJojr",
        "outputId": "44cc5afb-4e3e-46d9-f009-d09ba96b8eb8"
      },
      "execution_count": null,
      "outputs": [
        {
          "output_type": "stream",
          "name": "stdout",
          "text": [
            "Not valid string\n"
          ]
        }
      ]
    },
    {
      "cell_type": "markdown",
      "source": [
        "## Find words which are greater than given length k\n"
      ],
      "metadata": {
        "id": "EpJ8_bfbQ752"
      }
    },
    {
      "cell_type": "code",
      "source": [
        "a = \"hello geeks for geeks is computer science portal\".split()\n",
        "\n",
        "b = []\n",
        "temp = int (input(\"Enter the number : \"))\n",
        "for i in a :\n",
        "  if len(i)> temp :\n",
        "    b.append(i)\n",
        "print (\" \".join(b))\n"
      ],
      "metadata": {
        "colab": {
          "base_uri": "https://localhost:8080/"
        },
        "id": "Lj10UhabQacF",
        "outputId": "49ca1794-ed9a-40d1-f904-dd7f831fdf03"
      },
      "execution_count": null,
      "outputs": [
        {
          "output_type": "stream",
          "name": "stdout",
          "text": [
            "Enter the number : 4\n",
            "hello geeks geeks computer science portal\n"
          ]
        }
      ]
    },
    {
      "cell_type": "markdown",
      "source": [
        "## Python program for removing i-th character from a string\n"
      ],
      "metadata": {
        "id": "EcaJpUzlShIK"
      }
    },
    {
      "cell_type": "code",
      "source": [
        "a = \"Gughan\"\n",
        "b = []\n",
        "temp = int (input(\"Enter the number : \"))\n",
        "for i in range (len(a)) :\n",
        "  if i != temp-1 :\n",
        "    b.append(a[i])\n",
        "print (\"\".join(b))\n"
      ],
      "metadata": {
        "colab": {
          "base_uri": "https://localhost:8080/"
        },
        "id": "Po_SjHAaRB2u",
        "outputId": "8596bd7d-5cf0-49b2-e7f1-6207fce5979b"
      },
      "execution_count": null,
      "outputs": [
        {
          "output_type": "stream",
          "name": "stdout",
          "text": [
            "Enter the number : 2\n",
            "Gghan\n"
          ]
        }
      ]
    },
    {
      "cell_type": "markdown",
      "source": [
        "## Python program to create a list of tuples from given list having number and its cube in each tuple"
      ],
      "metadata": {
        "id": "cKccfHu0pybq"
      }
    },
    {
      "cell_type": "code",
      "source": [
        "list = [1, 2, 3]\n",
        "temp = [(i, i**3) for i in list]\n",
        "temp"
      ],
      "metadata": {
        "colab": {
          "base_uri": "https://localhost:8080/"
        },
        "id": "PSsSR6wBp0mh",
        "outputId": "27a39540-ef34-405e-8f9d-b0368202c3aa"
      },
      "execution_count": null,
      "outputs": [
        {
          "output_type": "execute_result",
          "data": {
            "text/plain": [
              "[(1, 1), (2, 8), (3, 27)]"
            ]
          },
          "metadata": {},
          "execution_count": 11
        }
      ]
    },
    {
      "cell_type": "markdown",
      "source": [
        "## Adding Tuple to List"
      ],
      "metadata": {
        "id": "Ma_nxGwuq-Jl"
      }
    },
    {
      "cell_type": "code",
      "source": [
        "my_list = [5, 6, 7]\n",
        "tup = (9, 10)\n",
        "b = [i for i in tup]  # Using the built-in list() function\n",
        "c = my_list + b\n",
        "c"
      ],
      "metadata": {
        "colab": {
          "base_uri": "https://localhost:8080/"
        },
        "id": "p8StznvHq_76",
        "outputId": "98f159d9-2eba-490f-c412-64476aab8099"
      },
      "execution_count": null,
      "outputs": [
        {
          "output_type": "execute_result",
          "data": {
            "text/plain": [
              "[5, 6, 7, 9, 10]"
            ]
          },
          "metadata": {},
          "execution_count": 21
        }
      ]
    },
    {
      "cell_type": "markdown",
      "source": [
        "## Sum of tuple elements"
      ],
      "metadata": {
        "id": "jhsUkzVcsPs1"
      }
    },
    {
      "cell_type": "code",
      "source": [
        "tuple1 = (1, 2, 3, 4)\n",
        "sum = 0\n",
        "for i in tuple1 :\n",
        "  sum += i\n",
        "print (sum)"
      ],
      "metadata": {
        "colab": {
          "base_uri": "https://localhost:8080/"
        },
        "id": "ip5O4fAmsQwZ",
        "outputId": "80e24bb4-b489-43e6-c8d9-dd391eeabfe7"
      },
      "execution_count": null,
      "outputs": [
        {
          "output_type": "stream",
          "name": "stdout",
          "text": [
            "10\n"
          ]
        }
      ]
    },
    {
      "cell_type": "markdown",
      "source": [
        "## SUM of two tuple elements"
      ],
      "metadata": {
        "id": "fJqHoGl_tC9R"
      }
    },
    {
      "cell_type": "code",
      "source": [
        "test_tup1 = (10, 4, 5, 6)\n",
        "test_tup2 = (5, 6, 7, 5)\n",
        "c = []\n",
        "for i in range (len(test_tup1)) :\n",
        "  c.append(test_tup1[i] + test_tup2[i])\n",
        "tuple (c)"
      ],
      "metadata": {
        "colab": {
          "base_uri": "https://localhost:8080/"
        },
        "id": "j-bRppPktFjo",
        "outputId": "792deb6c-3b65-44b2-8619-040b4712d457"
      },
      "execution_count": null,
      "outputs": [
        {
          "output_type": "execute_result",
          "data": {
            "text/plain": [
              "(15, 10, 12, 11)"
            ]
          },
          "metadata": {},
          "execution_count": 26
        }
      ]
    },
    {
      "cell_type": "markdown",
      "source": [
        "## Multiply Adjacent elements"
      ],
      "metadata": {
        "id": "o8GVASXtwd86"
      }
    },
    {
      "cell_type": "code",
      "source": [
        "test_tup = (1, 5, 7, 8, 10)\n",
        "dup = []\n",
        "for i in range (len(test_tup) - 1) :\n",
        "   dup.append (test_tup[i] * test_tup [i+1])\n",
        "\n",
        "dup\n",
        "tuple (dup)"
      ],
      "metadata": {
        "colab": {
          "base_uri": "https://localhost:8080/"
        },
        "id": "wLOTfO__v01J",
        "outputId": "8fe16756-74d3-473e-9a7b-f02a443d6714"
      },
      "execution_count": null,
      "outputs": [
        {
          "output_type": "execute_result",
          "data": {
            "text/plain": [
              "(5, 35, 56, 80)"
            ]
          },
          "metadata": {},
          "execution_count": 33
        }
      ]
    },
    {
      "cell_type": "markdown",
      "source": [
        "## All pair combinations of 2 tuples"
      ],
      "metadata": {
        "id": "tchCFM3LyJIZ"
      }
    },
    {
      "cell_type": "code",
      "source": [
        "test_tuple1 = (4, 5)\n",
        "test_tuple2 = (7, 8)\n",
        "res = [(i,j) for i in test_tuple1 for j in test_tuple2]\n",
        "res = res + [(i,j) for i in test_tuple2 for j in test_tuple1]\n",
        "res"
      ],
      "metadata": {
        "colab": {
          "base_uri": "https://localhost:8080/"
        },
        "id": "VHERO7OdwgfE",
        "outputId": "1bd7f6dd-fac5-4186-9f5a-ee544de392e5"
      },
      "execution_count": null,
      "outputs": [
        {
          "output_type": "execute_result",
          "data": {
            "text/plain": [
              "[(4, 7), (4, 8), (5, 7), (5, 8), (7, 4), (7, 5), (8, 4), (8, 5)]"
            ]
          },
          "metadata": {},
          "execution_count": 36
        }
      ]
    },
    {
      "cell_type": "markdown",
      "source": [
        "## Remove Tuples of Length K"
      ],
      "metadata": {
        "id": "nX3Tlsca1TNg"
      }
    },
    {
      "cell_type": "code",
      "source": [
        "test_list = [(4, 5), (4, ), (8, 6, 7), (1, ), (3, 4, 6, 7)]\n",
        "\n",
        "k = 2\n",
        "res = [i for i in test_list if len(i) != k ]\n",
        "res"
      ],
      "metadata": {
        "colab": {
          "base_uri": "https://localhost:8080/"
        },
        "id": "B6MadIsm05HI",
        "outputId": "d609cf5d-dba8-4bb4-ec57-bc9bdc431a3b"
      },
      "execution_count": null,
      "outputs": [
        {
          "output_type": "execute_result",
          "data": {
            "text/plain": [
              "[(4,), (8, 6, 7), (1,), (3, 4, 6, 7)]"
            ]
          },
          "metadata": {},
          "execution_count": 38
        }
      ]
    },
    {
      "cell_type": "markdown",
      "source": [
        "## Remove Tuples from the List having every element as None"
      ],
      "metadata": {
        "id": "wKF6SjgK3BVV"
      }
    },
    {
      "cell_type": "code",
      "source": [
        "test_list = [(None, None), (None, None), (3, 4), (12, 3), (None, ), (None, 1)]\n",
        "res = []\n",
        "\n",
        "for i in test_list :\n",
        "  if not (i.count(None)== len (i)) :\n",
        "    res.append(i)\n",
        "res\n"
      ],
      "metadata": {
        "colab": {
          "base_uri": "https://localhost:8080/"
        },
        "id": "aSzSwQyq1Vw1",
        "outputId": "595e4eab-c58e-4c7c-bbf2-f33c7088d722"
      },
      "execution_count": null,
      "outputs": [
        {
          "output_type": "execute_result",
          "data": {
            "text/plain": [
              "[(3, 4), (12, 3), (None, 1)]"
            ]
          },
          "metadata": {},
          "execution_count": 1
        }
      ]
    },
    {
      "cell_type": "markdown",
      "source": [
        "# Set problems :"
      ],
      "metadata": {
        "id": "DTh03AbHCyjw"
      }
    },
    {
      "cell_type": "markdown",
      "source": [
        "## Check if two lists have at-least one element common"
      ],
      "metadata": {
        "id": "LTwyC_IdC2pD"
      }
    },
    {
      "cell_type": "code",
      "source": [
        "a = [1, 2, 3, 4, 5]\n",
        "b = [5, 6, 7, 8, 9]\n",
        "a = set(a)\n",
        "b = set(b)\n",
        "if a.intersection(b) :\n",
        "  print (\"Yes\")\n",
        "else :\n",
        "  print (\"No\")"
      ],
      "metadata": {
        "colab": {
          "base_uri": "https://localhost:8080/"
        },
        "id": "ULo39-KHC11L",
        "outputId": "d7992fa9-3158-42c4-b47d-78d90a33d895"
      },
      "execution_count": null,
      "outputs": [
        {
          "output_type": "stream",
          "name": "stdout",
          "text": [
            "Yes\n"
          ]
        }
      ]
    },
    {
      "cell_type": "code",
      "source": [
        "ar1 = [1, 5, 10, 20, 40, 80]\n",
        "ar2 = [6, 7, 20, 80, 100]\n",
        "ar3 = [3, 4, 15, 20, 30, 70, 80, 120]\n",
        "a = set (ar1)\n",
        "b = set (ar2)\n",
        "c = set (ar3)\n",
        "set1 = a.intersection(b)\n",
        "result_set = set1.intersection(c)\n",
        "result_set"
      ],
      "metadata": {
        "colab": {
          "base_uri": "https://localhost:8080/"
        },
        "id": "6_h2HslEDM7t",
        "outputId": "66035e1d-9415-4889-932e-4367779ed823"
      },
      "execution_count": null,
      "outputs": [
        {
          "output_type": "execute_result",
          "data": {
            "text/plain": [
              "{20, 80}"
            ]
          },
          "metadata": {},
          "execution_count": 6
        }
      ]
    },
    {
      "cell_type": "markdown",
      "source": [
        "## Find missing and additional values in two lists"
      ],
      "metadata": {
        "id": "BTI7HRLTEM3u"
      }
    },
    {
      "cell_type": "code",
      "source": [
        "list1 = [1, 2, 3, 4, 5, 6]\n",
        "list2 = [4, 5, 6, 7, 8]\n",
        "\n",
        "# prints the missing and additional elements in list2\n",
        "print(\"Missing values in second list:\", (set(list1).difference(list2)))\n",
        "print(\"Additional values in second list:\", (set(list2).difference(list1)))\n",
        "\n",
        "# prints the missing and additional elements in list1\n",
        "print(\"Missing values in first list:\", (set(list2).difference(list1)))\n",
        "print(\"Additional values in first list:\", (set(list1).difference(list2)))"
      ],
      "metadata": {
        "colab": {
          "base_uri": "https://localhost:8080/"
        },
        "id": "J3SICTSfEOYR",
        "outputId": "26071591-e28a-4bc4-c127-c4e49cd519f1"
      },
      "execution_count": null,
      "outputs": [
        {
          "output_type": "stream",
          "name": "stdout",
          "text": [
            "Missing values in second list: {1, 2, 3}\n",
            "Additional values in second list: {7, 8}\n",
            "Missing values in first list: {7, 8}\n",
            "Additional values in first list: {1, 2, 3}\n"
          ]
        }
      ]
    },
    {
      "cell_type": "markdown",
      "source": [
        "## Concatenated string with uncommon characters in Python"
      ],
      "metadata": {
        "id": "7FFE-pTSGF-3"
      }
    },
    {
      "cell_type": "code",
      "source": [
        "def uncommonConcat(str1, str2):\n",
        "\n",
        "    # convert both strings into set\n",
        "    set1 = set(str1)\n",
        "    set2 = set(str2)\n",
        "\n",
        "    # Performing symmetric difference operation of set\n",
        "    # to pull out uncommon characters\n",
        "    uncommon = list(set1 ^ set2)\n",
        "\n",
        "    # join each character without space to get\n",
        "    # final string\n",
        "    print( ''.join(uncommon) )\n",
        "\n",
        "# Driver program\n",
        "if __name__ == \"__main__\":\n",
        "    str1 = 'aacdb'\n",
        "    str2 = 'gafd'\n",
        "    uncommonConcat(str1,str2)"
      ],
      "metadata": {
        "colab": {
          "base_uri": "https://localhost:8080/"
        },
        "id": "Ngk0_gLvGHIJ",
        "outputId": "d0eccad7-0a97-435f-98dd-50b652ec15ff"
      },
      "execution_count": null,
      "outputs": [
        {
          "output_type": "stream",
          "name": "stdout",
          "text": [
            "cbgf\n"
          ]
        }
      ]
    },
    {
      "cell_type": "markdown",
      "source": [
        "## Python set to check if string is pangram\n"
      ],
      "metadata": {
        "id": "yDA0b2-JG7s4"
      }
    },
    {
      "cell_type": "code",
      "source": [
        "a = \"The quick brown fox jumps over the lazy dog\"\n",
        "a = a.replace(\" \", \"\"). lower()\n",
        "a = list(set (a))\n",
        "a.sort()\n",
        "x= \"\".join(a)\n",
        "if x == \"abcdefghijklmnopqrstuvwxyz\" :\n",
        "  print (\"Yes\")\n",
        "else :\n",
        "  print (\"No\")\n"
      ],
      "metadata": {
        "colab": {
          "base_uri": "https://localhost:8080/"
        },
        "id": "KcIFY9M0G8zM",
        "outputId": "7d0c7f19-7dc6-41d2-9cba-22d6ad272471"
      },
      "execution_count": null,
      "outputs": [
        {
          "output_type": "stream",
          "name": "stdout",
          "text": [
            "Yes\n"
          ]
        }
      ]
    }
  ],
  "metadata": {
    "colab": {
      "toc_visible": true,
      "provenance": []
    },
    "kernelspec": {
      "display_name": "Python 3",
      "name": "python3"
    },
    "language_info": {
      "name": "python"
    }
  },
  "nbformat": 4,
  "nbformat_minor": 0
}